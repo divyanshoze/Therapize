{
 "cells": [
  {
   "cell_type": "markdown",
   "id": "282a98f9",
   "metadata": {},
   "source": [
    "### Importing Libraries"
   ]
  },
  {
   "cell_type": "code",
   "execution_count": 1,
   "id": "e6457e36",
   "metadata": {},
   "outputs": [
    {
     "name": "stdout",
     "output_type": "stream",
     "text": [
      "importing Jupyter notebook from neural_net.ipynb\n",
      "importing Jupyter notebook from nlp_preprocess.ipynb\n"
     ]
    }
   ],
   "source": [
    "import random\n",
    "import import_ipynb\n",
    "import json\n",
    "import torch\n",
    "from neural_net import NeuralNet  #importing ipynb neural_net\n",
    "from nlp_preprocess import bag_of_words, tokenize   #importing ipynb nlp_preprocess"
   ]
  },
  {
   "cell_type": "markdown",
   "id": "bc79f1b1",
   "metadata": {},
   "source": [
    "##### Reading the intents "
   ]
  },
  {
   "cell_type": "code",
   "execution_count": 2,
   "id": "2209806c",
   "metadata": {},
   "outputs": [],
   "source": [
    "with open('intents.json', 'r') as json_data:\n",
    "    intents = json.load(json_data)"
   ]
  },
  {
   "cell_type": "code",
   "execution_count": 3,
   "id": "6bd2908a",
   "metadata": {},
   "outputs": [],
   "source": [
    "device = torch.device('cuda' if torch.cuda.is_available() else 'cpu')"
   ]
  },
  {
   "cell_type": "markdown",
   "id": "22c9d2ce",
   "metadata": {},
   "source": [
    "### Load the weight trained model and Assign values to variables"
   ]
  },
  {
   "cell_type": "code",
   "execution_count": 4,
   "id": "0314c755",
   "metadata": {},
   "outputs": [
    {
     "name": "stdout",
     "output_type": "stream",
     "text": [
      "Architecture:\n"
     ]
    },
    {
     "data": {
      "text/plain": [
       "NeuralNet(\n",
       "  (l1): Linear(in_features=83, out_features=8, bias=True)\n",
       "  (l2): Linear(in_features=8, out_features=8, bias=True)\n",
       "  (l3): Linear(in_features=8, out_features=8, bias=True)\n",
       "  (relu): ReLU()\n",
       ")"
      ]
     },
     "execution_count": 4,
     "metadata": {},
     "output_type": "execute_result"
    }
   ],
   "source": [
    "FILE = \"modeltrained.pth\"\n",
    "data = torch.load(FILE)\n",
    "\n",
    "input_size = data[\"input_size\"]\n",
    "hidden_size = data[\"hidden_size\"]\n",
    "output_size = data[\"output_size\"]\n",
    "vocabulary = data['vocabulary']\n",
    "tags = data['tags']\n",
    "model_state = data[\"model_state\"]\n",
    "\n",
    "\n",
    "print(\"Architecture:\")\n",
    "model = NeuralNet(input_size, hidden_size, output_size).to(device)\n",
    "model.load_state_dict(model_state)\n",
    "model.eval()"
   ]
  },
  {
   "cell_type": "code",
   "execution_count": null,
   "id": "7fe98b0e",
   "metadata": {},
   "outputs": [
    {
     "name": "stdout",
     "output_type": "stream",
     "text": [
      "Hey, Welcome to Therapize. Let's chat! (type 'quit' to exit)\n",
      "---------------------------------------------------------------------------------------------------------------------\n",
      "You: Hey \n",
      "Therapize: Hi there, how can I help? :)\n",
      "---------------------------------------------------------------------------------------------------------------------\n",
      "You: How are you doing\n",
      "Therapize: Hi there, how can I help? :)\n",
      "---------------------------------------------------------------------------------------------------------------------\n",
      "You: What is anxiety\n",
      "Therapize: Everyone has feelings of anxiety at some point in their life. For example, you may feel worried and anxious about sitting an exam, or having a medical test or job interview. During times like these, being anxious is completely normal, But for some people it's difficult to come out of that state, it takes them weaks or months to feeling relaxed again. They lose control over such worries and it starts to affect their daily lives, that's when you should seek help, try to talk to your loved ones and seek help from a certified doctor\n",
      "---------------------------------------------------------------------------------------------------------------------\n",
      "You: Does having mental illness make me weak\n",
      "Therapize: Some people think depression is trivial and not a genuine health condition. They're wrong – it is a real illness with real symptoms. Depression is not a sign of weakness or something you can snap out of by pulling yourself together. It's completely normal to seek help when you are having troubles in your daily life routine, We repeat, it's completely normal.\n",
      "---------------------------------------------------------------------------------------------------------------------\n",
      "You: Thanks\n",
      "Therapize: Any time :)\n",
      "---------------------------------------------------------------------------------------------------------------------\n",
      "You: Bye\n",
      "Therapize: See you later, thanks for visiting Therapize\n",
      "---------------------------------------------------------------------------------------------------------------------\n"
     ]
    }
   ],
   "source": [
    "bot_name = \"Therapize\"\n",
    "\n",
    "#Looping for the entire conversation with the user\n",
    "print(\"Hey, Welcome to Therapize. Let's chat! (type 'quit' to exit)\")\n",
    "print(\"-\"*117)\n",
    "while True:\n",
    "    #Try entering something like a 'hello' for starter; quits out of loop with exit word set as \"quit\"\n",
    "    sentence = input(\"You: \")\n",
    "    if sentence == \"quit\":\n",
    "        break\n",
    "    #all the live sentence going through the same preprocess; storing results in output\n",
    "    sentence = tokenize(sentence)\n",
    "   # print(\"\\nTokenized:\",sentence,\"\\n\") if needed to print the live tokenized form of input\n",
    "    X = bag_of_words(sentence, vocabulary)\n",
    "   # print(\"Bag of words:\",X,\"\\n\")       if needed to see the bag of words vector for the input\n",
    "    X = X.reshape(1, X.shape[0]) \n",
    "    X = torch.from_numpy(X).to(device)\n",
    "    output = model(X)   \n",
    "    _,predicted = torch.max(output, dim=1)   #predicted label having the highest value\n",
    "\n",
    "    tag = tags[predicted.item()]  #getting the index from item, to later check if tag exists in intents for response\n",
    "\n",
    "    probs = torch.softmax(output, dim=1)   #applying softmax layer for probability scores at the o/p layer\n",
    "    prob = probs[0][predicted.item()]\n",
    "    if prob.item() > 0.75:           #setting the prob as confidence, stricter the value more hard margin for match\n",
    "        for intent in intents['intents']:\n",
    "            if tag == intent[\"tag\"]:\n",
    "                print(f\"{bot_name}: {random.choice(intent['responses'])}\")  #generating random choice on any response from intents\n",
    "                print(\"-\"*117)\n",
    "\n",
    "    else:\n",
    "        print(f\"{bot_name}: Sorry, we didn't understand that\")\n",
    "        print(\"-\"*117)\n"
   ]
  },
  {
   "cell_type": "code",
   "execution_count": null,
   "id": "2a6934e3",
   "metadata": {},
   "outputs": [],
   "source": []
  }
 ],
 "metadata": {
  "kernelspec": {
   "display_name": "Python 3 (ipykernel)",
   "language": "python",
   "name": "python3"
  },
  "language_info": {
   "codemirror_mode": {
    "name": "ipython",
    "version": 3
   },
   "file_extension": ".py",
   "mimetype": "text/x-python",
   "name": "python",
   "nbconvert_exporter": "python",
   "pygments_lexer": "ipython3",
   "version": "3.7.6"
  }
 },
 "nbformat": 4,
 "nbformat_minor": 5
}
