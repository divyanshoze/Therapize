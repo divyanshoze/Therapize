{
 "cells": [
  {
   "cell_type": "markdown",
   "id": "282a98f9",
   "metadata": {},
   "source": [
    "### Importing Libraries"
   ]
  },
  {
   "cell_type": "code",
   "execution_count": 1,
   "id": "e6457e36",
   "metadata": {},
   "outputs": [
    {
     "name": "stdout",
     "output_type": "stream",
     "text": [
      "importing Jupyter notebook from neural_net.ipynb\n",
      "importing Jupyter notebook from nlp_preprocess.ipynb\n"
     ]
    }
   ],
   "source": [
    "import random\n",
    "import import_ipynb\n",
    "import json\n",
    "import torch\n",
    "from neural_net import NeuralNet  #importing ipynb neural_net\n",
    "from nlp_preprocess import bag_of_words, tokenize   #importing ipynb nlp_preprocess"
   ]
  },
  {
   "cell_type": "markdown",
   "id": "bc79f1b1",
   "metadata": {},
   "source": [
    "##### Reading the intents "
   ]
  },
  {
   "cell_type": "code",
   "execution_count": 2,
   "id": "2209806c",
   "metadata": {},
   "outputs": [],
   "source": [
    "with open('intents.json', 'r') as json_data:\n",
    "    intents = json.load(json_data)"
   ]
  },
  {
   "cell_type": "code",
   "execution_count": 3,
   "id": "6bd2908a",
   "metadata": {},
   "outputs": [],
   "source": [
    "device = torch.device('cuda' if torch.cuda.is_available() else 'cpu')"
   ]
  },
  {
   "cell_type": "markdown",
   "id": "22c9d2ce",
   "metadata": {},
   "source": [
    "### Load the weight trained model and Assign values to variables"
   ]
  },
  {
   "cell_type": "code",
   "execution_count": 4,
   "id": "0314c755",
   "metadata": {},
   "outputs": [
    {
     "name": "stdout",
     "output_type": "stream",
     "text": [
      "Architecture:\n"
     ]
    },
    {
     "data": {
      "text/plain": [
       "NeuralNet(\n",
       "  (l1): Linear(in_features=83, out_features=8, bias=True)\n",
       "  (l2): Linear(in_features=8, out_features=8, bias=True)\n",
       "  (l3): Linear(in_features=8, out_features=8, bias=True)\n",
       "  (relu): ReLU()\n",
       ")"
      ]
     },
     "execution_count": 4,
     "metadata": {},
     "output_type": "execute_result"
    }
   ],
   "source": [
    "FILE = \"modeltrained.pth\"\n",
    "data = torch.load(FILE)\n",
    "\n",
    "input_size = data[\"input_size\"]\n",
    "hidden_size = data[\"hidden_size\"]\n",
    "output_size = data[\"output_size\"]\n",
    "vocabulary = data['vocabulary']\n",
    "tags = data['tags']\n",
    "model_state = data[\"model_state\"]\n",
    "\n",
    "\n",
    "print(\"Architecture:\")\n",
    "model = NeuralNet(input_size, hidden_size, output_size).to(device)\n",
    "model.load_state_dict(model_state)\n",
    "model.eval()"
   ]
  },
  {
   "cell_type": "code",
   "execution_count": null,
   "id": "7fe98b0e",
   "metadata": {},
   "outputs": [
    {
     "name": "stdout",
     "output_type": "stream",
     "text": [
      "Hey, Welcome to Therapize. Let's chat! (type 'quit' to exit)\n",
      "You: Hey\n",
      "Therapize: Hello, Welcome to Therapize :)\n",
      "You: What is depression\n",
      "Therapize: Depression affects people in different ways and cause a wide variety of symptoms, They range from lasting feelings of unhappiness and hopelessness, to losing interest in the things you used to enjoy and feeling very tearful. Many people with depression also have symptoms of anxiety.\n",
      "You: Bye\n",
      "Therapize: See you later, thanks for visiting Therapize\n",
      "You: Thanks\n",
      "Therapize: Happy to help :)\n",
      "You: Danke\n",
      "Therapize: Sorry, we didn't understand that\n"
     ]
    }
   ],
   "source": [
    "bot_name = \"Therapize\"\n",
    "\n",
    "#Looping for the entire conversation with the user\n",
    "print(\"Hey, Welcome to Therapize. Let's chat! (type 'quit' to exit)\")\n",
    "while True:\n",
    "    #Try entering something like a 'hello' for starter; quits out of loop with exit word set as \"quit\"\n",
    "    sentence = input(\"You: \")\n",
    "    if sentence == \"quit\":\n",
    "        break\n",
    "    #all the live sentence going through the same preprocess; storing results in output\n",
    "    sentence = tokenize(sentence)\n",
    "    X = bag_of_words(sentence, vocabulary)\n",
    "    X = X.reshape(1, X.shape[0])\n",
    "    X = torch.from_numpy(X).to(device)\n",
    "    output = model(X)   \n",
    "    _,predicted = torch.max(output, dim=1)   #predicted label having the highest value\n",
    "\n",
    "    tag = tags[predicted.item()]  #getting the index from item, to later check if tag exists in intents for response\n",
    "\n",
    "    probs = torch.softmax(output, dim=1)   #applying softmax layer for probability scores at the o/p layer\n",
    "    prob = probs[0][predicted.item()]\n",
    "    if prob.item() > 0.80:           #setting the prob as confidence, stricter the value more hard margin for match\n",
    "        for intent in intents['intents']:\n",
    "            if tag == intent[\"tag\"]:\n",
    "                print(f\"{bot_name}: {random.choice(intent['responses'])}\")  #generating random choice on any response from intents\n",
    "    else:\n",
    "        print(f\"{bot_name}: Sorry, we didn't understand that\")"
   ]
  },
  {
   "cell_type": "code",
   "execution_count": null,
   "id": "17aa6dc7",
   "metadata": {},
   "outputs": [],
   "source": [
    " "
   ]
  },
  {
   "cell_type": "code",
   "execution_count": null,
   "id": "ac387163",
   "metadata": {},
   "outputs": [],
   "source": []
  }
 ],
 "metadata": {
  "kernelspec": {
   "display_name": "Python 3 (ipykernel)",
   "language": "python",
   "name": "python3"
  },
  "language_info": {
   "codemirror_mode": {
    "name": "ipython",
    "version": 3
   },
   "file_extension": ".py",
   "mimetype": "text/x-python",
   "name": "python",
   "nbconvert_exporter": "python",
   "pygments_lexer": "ipython3",
   "version": "3.7.6"
  }
 },
 "nbformat": 4,
 "nbformat_minor": 5
}
