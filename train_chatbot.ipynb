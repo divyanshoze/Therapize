{
 "cells": [
  {
   "cell_type": "markdown",
   "id": "1fac3580",
   "metadata": {},
   "source": [
    "### Importing Libraries"
   ]
  },
  {
   "cell_type": "code",
   "execution_count": 30,
   "id": "e01c5e72",
   "metadata": {},
   "outputs": [],
   "source": [
    "import numpy as np\n",
    "import nltk\n",
    "import random\n",
    "import json\n",
    "import import_ipynb\n",
    "import torch\n",
    "import torch.nn as nn\n",
    "from torch.utils.data import Dataset, DataLoader\n",
    "from nlp_preprocess import bag_of_words, tokenize, stem\n",
    "from neural_net import NeuralNet\n",
    "\n"
   ]
  },
  {
   "cell_type": "code",
   "execution_count": 31,
   "id": "9498f109",
   "metadata": {},
   "outputs": [],
   "source": [
    "#Reading the Intents file\n",
    "\n",
    "with open('intents.json', 'r') as f:\n",
    "    intents = json.load(f)"
   ]
  },
  {
   "cell_type": "code",
   "execution_count": 32,
   "id": "a16e6d80",
   "metadata": {},
   "outputs": [
    {
     "data": {
      "text/plain": [
       "{'intents': [{'tag': 'greeting',\n",
       "   'patterns': ['Hi',\n",
       "    'Hey',\n",
       "    'How are you',\n",
       "    'Is anyone there?',\n",
       "    'Hello',\n",
       "    'Good day'],\n",
       "   'responses': ['Hey there, Welcome to Therapize :)',\n",
       "    'Hello, Welcome to Therapize :)',\n",
       "    'Hi there, what can I do for you? :)',\n",
       "    'Hi there, how can I help? :)']},\n",
       "  {'tag': 'goodbye',\n",
       "   'patterns': ['Bye', 'See you later', 'Goodbye', 'Buh-Bye', 'Goodnight'],\n",
       "   'responses': ['See you later, thanks for visiting Therapize',\n",
       "    'Have a nice day :)',\n",
       "    'Bye! Come back again soon :)',\n",
       "    'Hope we were of any help, see you soon!']},\n",
       "  {'tag': 'thanks',\n",
       "   'patterns': ['Thanks',\n",
       "    'Thank you',\n",
       "    \"That's helpful\",\n",
       "    \"Thank's a lot!\",\n",
       "    'Cheers'],\n",
       "   'responses': ['Happy to help :)',\n",
       "    'Any time :)',\n",
       "    'My pleasure :)',\n",
       "    'Glad we could be of some help :)']},\n",
       "  {'tag': 'about',\n",
       "   'patterns': ['What is Therapize about?',\n",
       "    'What does therapize provide?',\n",
       "    'Who are you, what do you do?',\n",
       "    'Who am I talking tp, who are you'],\n",
       "   'responses': ['Therapize aims to provide people with ease and comfort. We are here to listen to you, not lecture you.',\n",
       "    'Therapize is a friend whom you can trust, share when nobody is there to listen to you, get your load off',\n",
       "    \"Therapize is that special friend you can count on at anytime of the day, share your deepest troubles and have someone to listen to you without no judgement. We understand there's no right or wrong in the world, there are choices made. We are here to help.\"]},\n",
       "  {'tag': 'Anxiety',\n",
       "   'patterns': ['What is Anxiety',\n",
       "    'How do I know if I have anxiety disorder',\n",
       "    'How would I know when to visit a therapist for help for my anxiety',\n",
       "    'Is anxiety normal, what is the line where you should go seek help'],\n",
       "   'responses': [\"Everyone has feelings of anxiety at some point in their life. For example, you may feel worried and anxious about sitting an exam, or having a medical test or job interview. During times like these, being anxious is completely normal, But for some people it's difficult to come out of that state, it takes them weaks or months to feeling relaxed again. They lose control over such worries and it starts to affect their daily lives, that's when you should seek help, try to talk to your loved ones and seek help from a certified doctor\",\n",
       "    'Occasional anxiety is a normal part of life. Many people worry about things such as health, money, or family problems. But anxiety disorders involve more than temporary worry or fear. For people with an anxiety disorder, the anxiety does not go away and can get worse over time. The symptoms can interfere with daily activities such as job performance, schoolwork, and relationships',\n",
       "    'Anxiety is a normal and often healthy emotion. However, when a person regularly feels disproportionate levels of anxiety, it might become a medical disorder. That is when you should consult a doctor and get help']},\n",
       "  {'tag': 'Depression',\n",
       "   'patterns': [\"How do I know if I'm depressed\",\n",
       "    \"What is depression, how to know if you're depressed\",\n",
       "    'What are the symptoms to depression',\n",
       "    'What is depression, How does it affectt people',\n",
       "    'What is depression affecting my daily life routine'],\n",
       "   'responses': ['Depression is more than simply feeling unhappy or fed up for a few days. It is the persistent feeling of feeling down for weeks or months or even years, Depression affects people in different ways and can cause a wide variety of symptoms.',\n",
       "    'Depression affects people in different ways and cause a wide variety of symptoms, They range from lasting feelings of unhappiness and hopelessness, to losing interest in the things you used to enjoy and feeling very tearful. Many people with depression also have symptoms of anxiety.',\n",
       "    'The symptoms of depression range from mild to severe. At its mildest, you may simply feel persistently low in spirit, while severe depression can make you feel suicidal, that life is no longer worth living. The sooner you see a doctor when experiencing such symptoms, the faster you make a recovery.']},\n",
       "  {'tag': 'shame',\n",
       "   'patterns': ['Should I be ashamed of having mental illness',\n",
       "    'Should I be ashamed of having anxiety or being depressed',\n",
       "    'I am embarrassed of talking about my anxiety symptoms to people around me',\n",
       "    'Am I weak, does mental illness happen to people who have weak mental strength',\n",
       "    'Does having mental illness make me weak'],\n",
       "   'responses': [\"Some people think depression is trivial and not a genuine health condition. They're wrong – it is a real illness with real symptoms. Depression is not a sign of weakness or something you can snap out of by pulling yourself together. It's completely normal to seek help when you are having troubles in your daily life routine, We repeat, it's completely normal.\",\n",
       "    \"It's normal for people to go for a doctor's appointment when any other part of their body has some difficulty, you take a few days off, or probably a week off within guidance, and you are good to go, right? So why not seek help for mental difficulties? It's even more unhealthy to keep everything inside and resist the problems inside. It's fine to talk about it to your loved ones, this doesn't define you, you are not weak.\",\n",
       "    \"You are not alone, everybody goes through some or the other problem in their lives, open up, you'll surprise yourself with how many like-minded people can help you with it. We are here for you too, always :)\"]},\n",
       "  {'tag': 'cure',\n",
       "   'patterns': ['What should I do about my anxiety, depression',\n",
       "    'What should I do about my symptoms for anxiety and depression',\n",
       "    \"What's the cure to such anxiety/depressionsymptoms\"],\n",
       "   'responses': [\"Talking therapies, such as cognitive behavioural therapy (CBT), are often used for mild depression that is not improving, Antidepressants are also sometimes prescribed if it's moderate or severe depression case.\",\n",
       "    'General anxious symptoms can be made better by engaging in physical activities, talking to a trusted friend about your thoughts, stop smoking if you do, not use any substance to override anxiety. In some cases, CBT or even antidepressants can be prescribed based on the level of symptoms',\n",
       "    'With treatment, many people are able to control their anxiety levels. But some treatments may need to be continued for a long time and there may be periods when your symptoms worsen. But the sooner you consult a doctor for help, the faster you be on the path to recovery :)']}]}"
      ]
     },
     "execution_count": 32,
     "metadata": {},
     "output_type": "execute_result"
    }
   ],
   "source": [
    "#Intents has different tags denoting to emotions, patterns: different inputs that it can expect out from the user\n",
    "#responses: numerous outputs that it can generate\n",
    "\n",
    "intents"
   ]
  },
  {
   "cell_type": "markdown",
   "id": "49dccdc2",
   "metadata": {},
   "source": [
    "### Preprocessing"
   ]
  },
  {
   "cell_type": "code",
   "execution_count": 33,
   "id": "01015124",
   "metadata": {},
   "outputs": [
    {
     "name": "stdout",
     "output_type": "stream",
     "text": [
      "[(['Hi'], 'greeting'), (['Hey'], 'greeting'), (['How', 'are', 'you'], 'greeting'), (['Is', 'anyone', 'there', '?'], 'greeting'), (['Hello'], 'greeting'), (['Good', 'day'], 'greeting'), (['Bye'], 'goodbye'), (['See', 'you', 'later'], 'goodbye'), (['Goodbye'], 'goodbye'), (['Buh-Bye'], 'goodbye'), (['Goodnight'], 'goodbye'), (['Thanks'], 'thanks'), (['Thank', 'you'], 'thanks'), (['That', \"'s\", 'helpful'], 'thanks'), (['Thank', \"'s\", 'a', 'lot', '!'], 'thanks'), (['Cheers'], 'thanks'), (['What', 'is', 'Therapize', 'about', '?'], 'about'), (['What', 'does', 'therapize', 'provide', '?'], 'about'), (['Who', 'are', 'you', ',', 'what', 'do', 'you', 'do', '?'], 'about'), (['Who', 'am', 'I', 'talking', 'tp', ',', 'who', 'are', 'you'], 'about'), (['What', 'is', 'Anxiety'], 'Anxiety'), (['How', 'do', 'I', 'know', 'if', 'I', 'have', 'anxiety', 'disorder'], 'Anxiety'), (['How', 'would', 'I', 'know', 'when', 'to', 'visit', 'a', 'therapist', 'for', 'help', 'for', 'my', 'anxiety'], 'Anxiety'), (['Is', 'anxiety', 'normal', ',', 'what', 'is', 'the', 'line', 'where', 'you', 'should', 'go', 'seek', 'help'], 'Anxiety'), (['How', 'do', 'I', 'know', 'if', 'I', \"'m\", 'depressed'], 'Depression'), (['What', 'is', 'depression', ',', 'how', 'to', 'know', 'if', 'you', \"'re\", 'depressed'], 'Depression'), (['What', 'are', 'the', 'symptoms', 'to', 'depression'], 'Depression'), (['What', 'is', 'depression', ',', 'How', 'does', 'it', 'affectt', 'people'], 'Depression'), (['What', 'is', 'depression', 'affecting', 'my', 'daily', 'life', 'routine'], 'Depression'), (['Should', 'I', 'be', 'ashamed', 'of', 'having', 'mental', 'illness'], 'shame'), (['Should', 'I', 'be', 'ashamed', 'of', 'having', 'anxiety', 'or', 'being', 'depressed'], 'shame'), (['I', 'am', 'embarrassed', 'of', 'talking', 'about', 'my', 'anxiety', 'symptoms', 'to', 'people', 'around', 'me'], 'shame'), (['Am', 'I', 'weak', ',', 'does', 'mental', 'illness', 'happen', 'to', 'people', 'who', 'have', 'weak', 'mental', 'strength'], 'shame'), (['Does', 'having', 'mental', 'illness', 'make', 'me', 'weak'], 'shame'), (['What', 'should', 'I', 'do', 'about', 'my', 'anxiety', ',', 'depression'], 'cure'), (['What', 'should', 'I', 'do', 'about', 'my', 'symptoms', 'for', 'anxiety', 'and', 'depression'], 'cure'), (['What', \"'s\", 'the', 'cure', 'to', 'such', 'anxiety/depressionsymptoms'], 'cure')] : 37 Patterns \n",
      "\n",
      "['Anxiety', 'Depression', 'about', 'cure', 'goodbye', 'greeting', 'shame', 'thanks'] : 8 Tags \n",
      "\n",
      "[\"'m\", \"'re\", \"'s\", ',', 'a', 'about', 'affect', 'affectt', 'am', 'and', 'anxieti', 'anxiety/depressionsymptom', 'anyon', 'are', 'around', 'asham', 'be', 'buh-by', 'bye', 'cheer', 'cure', 'daili', 'day', 'depress', 'disord', 'do', 'doe', 'embarrass', 'for', 'go', 'good', 'goodby', 'goodnight', 'happen', 'have', 'hello', 'help', 'hey', 'hi', 'how', 'i', 'if', 'ill', 'is', 'it', 'know', 'later', 'life', 'line', 'lot', 'make', 'me', 'mental', 'my', 'normal', 'of', 'or', 'peopl', 'provid', 'routin', 'see', 'seek', 'should', 'strength', 'such', 'symptom', 'talk', 'thank', 'that', 'the', 'therap', 'therapist', 'there', 'to', 'tp', 'visit', 'weak', 'what', 'when', 'where', 'who', 'would', 'you'] : 83 Vocabulary made of stemmed tokenized words \n",
      "\n"
     ]
    }
   ],
   "source": [
    "#Three lists to store all words, the tags, pairs for words with tags\n",
    "vocabulary = []\n",
    "tags = []\n",
    "w_t = []\n",
    "\n",
    "\n",
    "#looping through each line in the intents:\n",
    "for intent in intents['intents']:\n",
    "    tag = intent['tag']\n",
    "    #appending to tags list\n",
    "    tags.append(tag)\n",
    "    for pattern in intent['patterns']:\n",
    "        #tokenize each word in the pattern sequences to store as a word\n",
    "        w = tokenize(pattern)\n",
    "        #extending all the tokenized wordds to vocab\n",
    "        vocabulary.extend(w)\n",
    "        #the word paired with it's associated tag\n",
    "        w_t.append((w, tag))\n",
    "\n",
    "#stemming and turning words into lower case\n",
    "#words to ignore in all the expressions\n",
    "\n",
    "ignore_words = ['?', '.', '!','%','#','@','^','*']\n",
    "vocabulary = [stem(w) for w in vocabulary if w not in ignore_words]\n",
    "\n",
    "#To remove duplicates and sort the words\n",
    "vocabulary = sorted(set(vocabulary))\n",
    "tags = sorted(set(tags))\n",
    "\n",
    "print(w_t,\":\",len(w_t), \"Patterns\",'\\n')\n",
    "print(tags,\":\",len(tags),\"Tags\",'\\n')\n",
    "print(vocabulary,\":\", len(vocabulary), \"Vocabulary made of stemmed tokenized words\",'\\n')\n"
   ]
  },
  {
   "cell_type": "markdown",
   "id": "78fae6db",
   "metadata": {},
   "source": [
    "# Preparation of Training Data"
   ]
  },
  {
   "cell_type": "code",
   "execution_count": 34,
   "id": "62debdef",
   "metadata": {
    "scrolled": true
   },
   "outputs": [
    {
     "name": "stdout",
     "output_type": "stream",
     "text": [
      "83 8\n"
     ]
    }
   ],
   "source": [
    "#train tests for features and labels\n",
    "X_train = []\n",
    "y_train = []\n",
    "\n",
    "for (pattern_sequence, tag) in w_t:\n",
    "    #X_train[] for all b_o_g as features\n",
    "    bag = bag_of_words(pattern_sequence, vocabulary)\n",
    "    X_train.append(bag)\n",
    "    #y_train[] storing all the indexes of tags denoting emotion\n",
    "    label = tags.index(tag)\n",
    "    y_train.append(label)\n",
    "    \n",
    "X_train = np.array(X_train)\n",
    "y_train = np.array(y_train)\n",
    "\n",
    "#Hyper-parameters for the network\n",
    "\n",
    "num_epochs = 1000\n",
    "batch_size = 8\n",
    "learning_rate = 0.001\n",
    "#the input-size can be the len of any b_o_g in the X train as they are of the same size\n",
    "#output-size is the total labels/emotions possible \n",
    "input_size = len(X_train[0])\n",
    "hidden_size = 8\n",
    "output_size = len(tags)\n",
    "print(input_size, output_size) \n"
   ]
  },
  {
   "cell_type": "markdown",
   "id": "9f64edd8",
   "metadata": {},
   "source": [
    "# Loaders"
   ]
  },
  {
   "cell_type": "code",
   "execution_count": 35,
   "id": "1ed753d7",
   "metadata": {
    "scrolled": true
   },
   "outputs": [],
   "source": [
    "class loaderdata(Dataset):\n",
    "\n",
    "    def __init__(self):\n",
    "        self.n_samples = len(X_train)\n",
    "        self.x_data = X_train\n",
    "        self.y_data = y_train\n",
    "\n",
    "    def __getitem__(self, index):\n",
    "        return self.x_data[index], self.y_data[index]\n",
    "\n",
    "    def __len__(self):\n",
    "        return self.n_samples\n",
    "\n",
    "dataset = loaderdata()\n",
    "\n",
    "train_loader = DataLoader(dataset=dataset,\n",
    "                          batch_size=batch_size,\n",
    "                          shuffle=True,\n",
    "                          num_workers=0)\n",
    "\n",
    "device = torch.device('cuda' if torch.cuda.is_available() else 'cpu')\n",
    "\n",
    "#Simple ANN with one hidden layer\n",
    "model = NeuralNet(input_size, hidden_size, output_size).to(device)\n",
    "\n",
    "#Loss and Optimizer\n",
    "criterion = nn.CrossEntropyLoss()\n",
    "optimizer = torch.optim.Adam(model.parameters(), lr=learning_rate)"
   ]
  },
  {
   "cell_type": "markdown",
   "id": "13a7639d",
   "metadata": {},
   "source": [
    "## Training the Model\n"
   ]
  },
  {
   "cell_type": "code",
   "execution_count": 36,
   "id": "89afb071",
   "metadata": {},
   "outputs": [
    {
     "name": "stdout",
     "output_type": "stream",
     "text": [
      "Epoch [100/1000], Loss: 0.6226\n",
      "Epoch [200/1000], Loss: 0.0801\n",
      "Epoch [300/1000], Loss: 0.0055\n",
      "Epoch [400/1000], Loss: 0.0046\n",
      "Epoch [500/1000], Loss: 0.0036\n",
      "Epoch [600/1000], Loss: 0.0015\n",
      "Epoch [700/1000], Loss: 0.0009\n",
      "Epoch [800/1000], Loss: 0.0012\n",
      "Epoch [900/1000], Loss: 0.0003\n",
      "Epoch [1000/1000], Loss: 0.0001\n",
      "The Final Loss: 0.0001\n",
      "Training is complete. file saved to modeltrained.pth\n"
     ]
    }
   ],
   "source": [
    "for epoch in range(num_epochs):\n",
    "    for (words, labels) in train_loader:\n",
    "        words =  words.to(device)\n",
    "        labels = labels.to(dtype=torch.long).to(device)\n",
    "        \n",
    "        #Calling the model for forward-pass\n",
    "        outputs = model(words)\n",
    "        #Loss criteria\n",
    "        loss = criterion(outputs, labels)\n",
    "        \n",
    "        #Optimizing through backward-pass\n",
    "        optimizer.zero_grad()\n",
    "        loss.backward()\n",
    "        optimizer.step()\n",
    "        \n",
    "    if (epoch+1) % 100 == 0:\n",
    "        print (f'Epoch [{epoch+1}/{num_epochs}], Loss: {loss.item():.4f}')\n",
    "\n",
    "\n",
    "print(f'The Final Loss: {loss.item():.4f}')\n",
    "\n",
    "#defining schema for data to be stored\n",
    "data = {\n",
    "\"model_state\": model.state_dict(),\n",
    "\"input_size\": input_size,\n",
    "\"hidden_size\": hidden_size,\n",
    "\"output_size\": output_size,\n",
    "\"vocabulary\": vocabulary,\n",
    "\"tags\": tags\n",
    "}\n",
    "\n",
    "#model with trained weights stored as .pth file\n",
    "FILE = \"modeltrained.pth\"\n",
    "torch.save(data, FILE)\n",
    "\n",
    "print(f'Training is complete. file saved to {FILE}')"
   ]
  }
 ],
 "metadata": {
  "kernelspec": {
   "display_name": "Python 3 (ipykernel)",
   "language": "python",
   "name": "python3"
  },
  "language_info": {
   "codemirror_mode": {
    "name": "ipython",
    "version": 3
   },
   "file_extension": ".py",
   "mimetype": "text/x-python",
   "name": "python",
   "nbconvert_exporter": "python",
   "pygments_lexer": "ipython3",
   "version": "3.7.6"
  }
 },
 "nbformat": 4,
 "nbformat_minor": 5
}
